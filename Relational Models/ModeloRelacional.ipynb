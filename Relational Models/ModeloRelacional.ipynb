{
 "cells": [
  {
   "cell_type": "markdown",
   "metadata": {},
   "source": [
    "# **Relational Models**\n",
    "\n",
    "***\n",
    "\n",
    "### **Atomization**\n",
    "\n",
    "*The elements within a relational database must be atomized as much as possible. If an element can continue to be atomized, it must be split into a different campo.*\n",
    "\n",
    "**Example:**\n",
    "*Direccion non-atomized: Av. Davila con Calle 23*\n",
    "*Direccion atomized: Avenida - Davilla, Calle: 23*\n",
    "\n",
    "**Faciles de:**\n",
    "* Consultar\n",
    "* Mantener\n",
    "* Asegurar\n",
    "\n",
    "### **Explanation of the Model**\n",
    "\n",
    "* Base de Datos\n",
    "    * Relaciones\n",
    "        * Tuplas\n",
    "            * Atributos\n",
    "* El orden de las tuplas es Irrelevente\n",
    "* Todos los atributos deben tener un nombre unico\n",
    "* Datos atomicos (Reglas del Negocio)\n",
    "* Evitar la duplicidad Innecesaria de los Datos\n",
    "    * Redundancia Fuerte - Redundancia\n",
    "* Identificacion Inequivoca de las tuplas\n",
    "* Llave Primaria(PK)"
   ]
  }
 ],
 "metadata": {
  "kernelspec": {
   "display_name": "Python 3",
   "language": "python",
   "name": "python3"
  },
  "language_info": {
   "codemirror_mode": {
    "name": "ipython",
    "version": 3
   },
   "file_extension": ".py",
   "mimetype": "text/x-python",
   "name": "python",
   "nbconvert_exporter": "python",
   "pygments_lexer": "ipython3",
   "version": "3.10.12"
  }
 },
 "nbformat": 4,
 "nbformat_minor": 2
}
