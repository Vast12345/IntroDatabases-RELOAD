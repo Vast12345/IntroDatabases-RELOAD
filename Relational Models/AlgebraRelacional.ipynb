{
 "cells": [
  {
   "cell_type": "markdown",
   "metadata": {},
   "source": [
    "# **Relational Algebra**\n",
    "\n",
    "*The relational algebra is a group of operation that can realize the relationships or groups of data in a relational database. These operations are similar to the operations in mathematic algebra, but are designed specifically to work with data extracted from tables. Here are some of the most common operations in relational algebra.*\n",
    "\n",
    "1. **Seleccion (σ)**: The operation of selection is utilized to select a sub-group of tuples that satisfy a specific condition. For example, σ(Age > 30)(Employees) would select all the tuples in the table \"Employees\" where the age is greater than 30.\n",
    "2. **Proyeccion (π)**: The operation of projection is utilized to select a sub-group of columns of a relationship. For example, π(Name, Age)(Employees) would select only the columns \"Name\" and \"Age\" from the \"Employees\" table.\n",
    "3. **Union (∪)**: The operation of union is utilized to combine two relationships that have the same structure (same group of atributes). It returns all the tuples that are in either of the two relationships. For example, A ∪ B returns all the tuples that are in A or in B (without duplicates).\n",
    "4. **Interseccion (∩)**: The operation for intersection is utilized to combine two relationships and return all of the uples that are present in both relationships. For example, A ∩ B returns all the tuples that are in A and also in B.\n",
    "5. **Diferencia (-)**: The operation for difference is utilized to find the tuples that are in one relationship but not in another. For example, A - B returns all the tuples that are in A but not in B.\n",
    "6. **Producto Cartesiano (x)**: The operation for product cartesiano is utilized to combine each tuple of a relationship with each tuple of another relationship. The result is a new relationship that contianes all the possible combinations of tuples. For example, A x B returns all the possible combinations of tuples from A and B."
   ]
  }
 ],
 "metadata": {
  "language_info": {
   "name": "python"
  }
 },
 "nbformat": 4,
 "nbformat_minor": 2
}
