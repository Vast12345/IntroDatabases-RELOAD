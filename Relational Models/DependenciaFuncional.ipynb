{
 "cells": [
  {
   "cell_type": "markdown",
   "metadata": {},
   "source": [
    "# **Functional Dependencies**\n",
    "\n",
    "### **Super Claves**\n",
    "\n",
    "*Una superclave es un conjunto de uno o más atributos que, tomados en conjunto, pueden identificar de manera única cada fila en una tabla de base de datos.*\n",
    "\n",
    "**Definicion de Superclave**\n",
    "\n",
    "1. Superclave: {ID}\n",
    "    * El atributo ID es unico para cada estudiante, por lo que {ID} es una superclave.\n",
    "2. Superclave: {Nombre, Apellido}\n",
    "    * Si no hay dos estudiantes con el mismo nombre y apellido, entonces {Nombre, Apellido} es una superclave.\n",
    "3. Superclave: {Nombre, Edad}\n",
    "    * Si no hay dos estudiantes con el mismo nombre y edad, entonces {Nombre, Edad} es una supreclave\n",
    "\n",
    "### **Clave cantidata**\n",
    "\n",
    "*Una clave candidata es un conjunto mínimo de atributos que garantiza la unicidad de cada fila en una tabla de base de datos. Cada clave candidata es una superclave, pero no todas las superclaves son claves candidatas. Una clave candidata no puede reducirse más sin perder la capacidad de identificar de manera única las filas en la tabla.*"
   ]
  }
 ],
 "metadata": {
  "language_info": {
   "name": "python"
  }
 },
 "nbformat": 4,
 "nbformat_minor": 2
}
