{
 "cells": [
  {
   "cell_type": "markdown",
   "metadata": {},
   "source": [
    "# **Normalization**\n",
    "\n",
    "*Regularizar. Poner en orden lo que no lo estaba*\n",
    "\n",
    "### **First Normal Form (1NF)**\n",
    "\n",
    "Definiciones:\n",
    "* No debe haver tuplas repetidas\n",
    "* No debe importar el orden de las tuplas\n",
    "* Existencia de una Llave Primaria\n",
    "* Atributos atomicos\n",
    "\n",
    "[First Normal Form Incorrect](/home/camper/IntroDatabases-RELOAD/content/1NF.png)\n",
    "\n",
    "[First Normal Form Correct](/home/camper/IntroDatabases-RELOAD/content/1NFpt2.png)\n",
    "\n",
    "### **Second Normal Form (2NF)**\n",
    "\n",
    "*Una Relacion esta en Segunda Forma Normal (2NF) si, y solo si:\n",
    "1. Esta en Primera Forma Normal\n",
    "\n",
    "2. Todos los atributos dependen de la Llave Primaria Completa. Ningun atributo dependende unicamente de una parte de la Llave Primaria.\n",
    "\n",
    "[Second Normal Form Incorrect](/home/camper/IntroDatabases-RELOAD/content/2NFIncorrect.png)\n",
    "\n",
    "[Second Normal Form Correct](/home/camper/IntroDatabases-RELOAD/content/2NFCorrect.png)\n",
    "\n",
    "### **Third Normal Form (3NF)**\n",
    "\n",
    "*Una Relacion esta en Tercera Form Normal (3NF) si, y solo si:\n",
    "1. Esta en Segunda Forma Normal\n",
    "\n",
    "2. Nigun atributo \"no determinante\" depende transitivamente de la Llave primaria. Ningun atributo \"no primo\" depende funcionalmente de otro atributo \"no primo\"\n",
    "\n",
    "[Third Normal Form Incorrect](/home/camper/IntroDatabases-RELOAD/content/3NFIncorrect.png)\n",
    "\n",
    "[Third Normal Form Correct](/home/camper/IntroDatabases-RELOAD/content/3NFCorrect.png)\n"
   ]
  }
 ],
 "metadata": {
  "language_info": {
   "name": "python"
  }
 },
 "nbformat": 4,
 "nbformat_minor": 2
}
