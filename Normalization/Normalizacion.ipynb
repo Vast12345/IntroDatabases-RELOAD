{
 "cells": [
  {
   "cell_type": "markdown",
   "metadata": {},
   "source": [
    "# **Normalization**\n",
    "\n",
    "*Regularizar. Poner en orden lo que no lo estaba*\n",
    "\n",
    "### **First Normal Form (1NF)**\n",
    "\n",
    "Definiciones:\n",
    "* No debe haver tuplas repetidas\n",
    "* No debe importar el orden de las tuplas\n",
    "* Existencia de una Llave Primaria\n",
    "* Atributos atomicos\n",
    "\n",
    "[First Normal Form Incorrect](/home/camper/IntroDatabases-RELOAD/content/1NF.png)\n",
    "\n",
    "[First Normal Form Correct](/home/camper/IntroDatabases-RELOAD/content/1NFpt2.png)\n",
    "\n",
    "### **Second Normal Form (2NF)**\n",
    "\n",
    "*Una Relacion esta en Segunda Forma Normal (2NF) si, y solo si:\n",
    "1. Esta en Primera Forma Normal\n",
    "\n",
    "2. Todos los atributos dependen de la Llave Primaria Completa. Ningun atributo dependende unicamente de una parte de la Llave Primaria.\n",
    "\n",
    "[Second Normal Form Incorrect](/home/camper/IntroDatabases-RELOAD/content/2NFIncorrect.png)\n",
    "\n",
    "[Second Normal Form Correct](/home/camper/IntroDatabases-RELOAD/content/2NFCorrect.png)\n",
    "\n",
    "\n"
   ]
  }
 ],
 "metadata": {
  "language_info": {
   "name": "python"
  }
 },
 "nbformat": 4,
 "nbformat_minor": 2
}
