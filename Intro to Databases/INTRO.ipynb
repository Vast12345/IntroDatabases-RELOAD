{
 "cells": [
  {
   "cell_type": "markdown",
   "metadata": {},
   "source": [
    "# **INTRO TO DATABASES**\n",
    "\n",
    "***\n",
    "\n",
    "### **Data**\n",
    "*Data is referred to being a symbolic representation of any kind of entity.*\n",
    "### **MetaData**\n",
    "*The metadata is used to refer of the data that defines and compliments a piece of Data.*\n",
    "### **Conjunto de Datos**\n",
    "*A Conjunto de Datos refers to when a mass of data is grouped together. This group is then organized in order to easily actualize and consult.*\n",
    "\n",
    "**A Database is an organized group of data. This can be any kind of organized data such as an excel sheet and more.**\n",
    "\n",
    "### **What is a Database**\n",
    "* *A collection of organized data belonging to a single context.*\n",
    "\n",
    "### **What ISNT a Database**\n",
    "* *SQL is a language, NOT a Database*\n",
    "* *It is NOT a software or a program*\n",
    "\n",
    "***\n",
    "\n",
    "### **Data Models**\n",
    "*An abstract structure that documents and organizes the elements of information and standardizes like a relation between them and with the properties of the entities of the real world. - Abstraction in this case means something that is the most generalized and not specific.*"
   ]
  },
  {
   "cell_type": "markdown",
   "metadata": {},
   "source": [
    "# Tarea\n",
    "\n",
    "Lorenzo Lopez\n",
    "Intro de base de datos\n",
    "April 15, 2024\n",
    "Modelo de Base de Datos\n",
    "\tUn modelo de Base de Datos es una estructura abstracto que documenta y organiza entidades de la vida real. Estos modelos son importantes por que se pide ayudar a almacenar y consultar datos entre el base de datos.\n",
    "\tUnos ejemplos simples de modelos de datos seria los casos como producto y empleado. Un producto puede tener entidades abstractos como por ejemplo un nombre y un descripción. \n",
    "Tipos de modelos\n",
    "\tAy muchas modelos de base de datos pero los mas popular son los modelos entidad-relacional y modelo relacional. Los diferencias entre los dos son en los diagramas. El modelo entidad-relacional usa figuras para crear entidades y relaciones. Por ejemplo, un entidad usa una figura rectangular, y los relaciones usan figuras de diamantes. El modelo relacional usa tablas para relacionar las diferentes entidades. Esos tablas tienen atributos, y se relacionan usando siglas de cardinalidad.\n"
   ]
  }
 ],
 "metadata": {
  "language_info": {
   "name": "python"
  }
 },
 "nbformat": 4,
 "nbformat_minor": 2
}
